{
 "cells": [
  {
   "cell_type": "markdown",
   "metadata": {},
   "source": [
    "# 네이버 실시간 검색어(1위~20위)\n",
    "파이썬 BeautifulSoup을 이용한 웹 크롤러"
   ]
  },
  {
   "cell_type": "code",
   "execution_count": 9,
   "metadata": {},
   "outputs": [
    {
     "name": "stdout",
     "output_type": "stream",
     "text": [
      "==============================\n",
      "       NAVER RANK LIST\n",
      "==============================\n",
      "1위 로또886회당첨번호\n",
      "2위 펫토리아\n",
      "3위 박경\n",
      "4위 시원스쿨 무한수강연장\n",
      "5위 최지연\n",
      "6위 배종옥\n",
      "7위 김성훈\n",
      "8위 바이브\n",
      "9위 당갈\n",
      "10위 송하예\n",
      "11위 배가본드 시즌2\n",
      "12위 실족사\n",
      "13위 황인욱\n",
      "14위 최홍석\n",
      "15위 양평 하우스베이커리\n",
      "16위 배종옥나이\n",
      "17위 사재기\n",
      "18위 배종옥이혼\n",
      "19위 배가본드2\n",
      "20위 aoa\n"
     ]
    }
   ],
   "source": [
    "import requests\n",
    "from bs4 import BeautifulSoup\n",
    "\n",
    "req = requests.get(\"https://naver.com\") # connection\n",
    "# naver에서 소스 받아오기\n",
    "html = req.text\n",
    "\n",
    "# BeautifulSoup으로 html 소스 -> 객체\n",
    "# BeautifulSoup(html 소스코드, 사용할 parser타입)\n",
    "# html.parser는 파이썬 내장 함수\n",
    "soup = BeautifulSoup(html, 'html.parser')\n",
    "rtKeyword = soup.select\\\n",
    "    ('div.ah_roll.PM_CL_realtimeKeyword_rolling_base > div > ul > li')\n",
    "\n",
    "b = []\n",
    "# 태그 내 문자열을 b 리스트에 추가\n",
    "for sill in rtKeyword:\n",
    "    b.append(sill.text)\n",
    "\n",
    "k = 1;\n",
    "list_rtKeyword = []\n",
    "# 헤더 출력\n",
    "print(\"=\"*30 + '\\n' + ' '*7 + \"NAVER RANK LIST\\n\" + '='*30)\n",
    "\n",
    "# 문자열에서 핵심 문자열만 list_rtKeyword에 추가\n",
    "for i in b:\n",
    "    if k > 9 :\n",
    "        list_rtKeyword.append(i[5: -2])\n",
    "    else :\n",
    "        list_rtKeyword.append(i[4: -2])\n",
    "    k += 1\n",
    "\n",
    "# 실검 출력\n",
    "# s는 순워, list는 목록 요소 접근 가능\n",
    "for s, list in enumerate(list_rtKeyword):\n",
    "    print(\"%d위\" %(s+1) + \" \" + list)"
   ]
  },
  {
   "cell_type": "code",
   "execution_count": null,
   "metadata": {},
   "outputs": [],
   "source": []
  }
 ],
 "metadata": {
  "kernelspec": {
   "display_name": "Python 3",
   "language": "python",
   "name": "python3"
  },
  "language_info": {
   "codemirror_mode": {
    "name": "ipython",
    "version": 3
   },
   "file_extension": ".py",
   "mimetype": "text/x-python",
   "name": "python",
   "nbconvert_exporter": "python",
   "pygments_lexer": "ipython3",
   "version": "3.7.5"
  }
 },
 "nbformat": 4,
 "nbformat_minor": 2
}
