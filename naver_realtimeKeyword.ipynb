{
 "cells": [
  {
   "cell_type": "markdown",
   "metadata": {},
   "source": [
    "# 네이버 실시간 검색어(1위~20위)\n",
    "파이썬 BeautifulSoup을 이용한 웹 크롤러"
   ]
  },
  {
   "cell_type": "code",
   "execution_count": 15,
   "metadata": {},
   "outputs": [
    {
     "name": "stdout",
     "output_type": "stream",
     "text": [
      "==============================\n",
      "       NAVER RANK LIST\n",
      "==============================\n",
      "1위 그라펜향수재입고\n",
      "2위 복면가왕 큐피드\n",
      "3위 복면가왕 브로콜리\n",
      "4위 로또886회당첨번호\n",
      "5위 복면가왕 만찢남\n",
      "6위 박경\n",
      "7위 최현석 레스토랑\n",
      "8위 복면가왕 오늘의운세\n",
      "9위 송하영\n",
      "10위 지우\n",
      "11위 복면가왕 퀸카\n",
      "12위 박은혜이혼이유\n",
      "13위 그라펜향수\n",
      "14위 김경록\n",
      "15위 바이브\n",
      "16위 지현정\n",
      "17위 복면가왕\n",
      "18위 송하예\n",
      "19위 브루나이\n",
      "20위 최리\n"
     ]
    }
   ],
   "source": [
    "import requests\n",
    "from bs4 import BeautifulSoup\n",
    "\n",
    "req = requests.get(\"https://naver.com\") # connection\n",
    "# naver에서 소스 받아오기\n",
    "html = req.text\n",
    "\n",
    "# BeautifulSoup으로 html 소스 -> 객체\n",
    "# BeautifulSoup(html 소스코드, 사용할 parser타입)\n",
    "# html.parser는 파이썬 내장 함수\n",
    "soup = BeautifulSoup(html, 'html.parser')\n",
    "rtKeyword = soup.select\\\n",
    "    ('div.ah_roll.PM_CL_realtimeKeyword_rolling_base > div > ul > li')\n",
    "\n",
    "b = []\n",
    "# 태그 내 문자열을 b 리스트에 추가\n",
    "for sill in rtKeyword:\n",
    "    b.append(sill.text)\n",
    "\n",
    "k = 1;\n",
    "list_rtKeyword = []\n",
    "# 헤더 출력\n",
    "print(\"=\"*30 + '\\n' + ' '*7 + \"NAVER RANK LIST\\n\" + '='*30)\n",
    "\n",
    "# 문자열에서 핵심 문자열만 list_rtKeyword에 추가\n",
    "for i in b:\n",
    "    if k > 9 :\n",
    "        list_rtKeyword.append(i[5: -2])\n",
    "    else :\n",
    "        list_rtKeyword.append(i[4: -2])\n",
    "    k += 1\n",
    "\n",
    "# 실검 출력\n",
    "# s는 순워, list는 목록 요소 접근 가능\n",
    "for s, list in enumerate(list_rtKeyword):\n",
    "    print(\"%d위\" %(s+1) + \" \" + list)"
   ]
  },
  {
   "cell_type": "markdown",
   "metadata": {},
   "source": [
    "출처 : https://baobob1024.tistory.com/87?source=post_page-----9d6abf5a7296----------------------"
   ]
  }
 ],
 "metadata": {
  "kernelspec": {
   "display_name": "Python 3",
   "language": "python",
   "name": "python3"
  },
  "language_info": {
   "codemirror_mode": {
    "name": "ipython",
    "version": 3
   },
   "file_extension": ".py",
   "mimetype": "text/x-python",
   "name": "python",
   "nbconvert_exporter": "python",
   "pygments_lexer": "ipython3",
   "version": "3.7.5"
  }
 },
 "nbformat": 4,
 "nbformat_minor": 2
}
